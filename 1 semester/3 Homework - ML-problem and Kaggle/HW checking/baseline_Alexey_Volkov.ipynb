{
 "cells": [
  {
   "cell_type": "markdown",
   "metadata": {
    "id": "TK7oX5qdEEYr"
   },
   "source": [
    "<p style=\"align: center;\"><img align=center src=\"https://s8.hostingkartinok.com/uploads/images/2018/08/308b49fcfbc619d629fe4604bceb67ac.jpg\" width=500 height=450/></p>\n",
    "\n",
    "<h3 style=\"text-align: center;\"><b>Школа глубокого обучения ФПМИ МФТИ</b></h3>\n",
    "\n",
    "<h3 style=\"text-align: center;\"><b>Домашнее задание. Продвинутый поток. Весна 2021</b></h3>\n",
    "\n",
    "Это домашнее задание будет посвящено полноценному решению задачи машинного обучения."
   ]
  },
  {
   "cell_type": "markdown",
   "metadata": {
    "id": "zlB-owfaEEYs"
   },
   "source": [
    "Есть две части этого домашнего задания: \n",
    "* Сделать полноценный отчет о вашей работе: как вы обработали данные, какие модели попробовали и какие результаты получились (максимум 10 баллов). За каждую выполненную часть будет начислено определенное количество баллов.\n",
    "* Лучшее решение отправить в соревнование на [kaggle](https://www.kaggle.com/c/advanced-dls-spring-2021/) (максимум 5 баллов). За прохождение определенного порогов будут начисляться баллы.\n",
    "\n",
    "\n",
    "**Обе части будут проверяться в формате peer-review. Т.е. вашу посылку на степик будут проверять несколько других студентов и аггрегация их оценок будет выставлена. В то же время вам тоже нужно будет проверить несколько других учеников.**\n",
    "\n",
    "**Пожалуйста, делайте свою работу чистой и понятной, чтобы облегчить проверку. Если у вас будут проблемы с решением или хочется совета, то пишите в наш чат в телеграме или в лс @runfme. Если вы захотите проаппелировать оценку, то пипшите в лс @runfme.**\n",
    "\n",
    "**Во всех пунктах указания это минимальный набор вещей, которые стоит сделать. Если вы можете сделать какой-то шаг лучше или добавить что-то свое - дерзайте!**"
   ]
  },
  {
   "cell_type": "markdown",
   "metadata": {
    "id": "Tu_JvqcBEN8Y"
   },
   "source": [
    "# Как проверять?\n",
    "\n",
    "Ставьте полный балл, если выполнены все рекомендации или сделано что-то более интересное и сложное. За каждый отсустствующий пункт из рекомендация снижайте 1 балл."
   ]
  },
  {
   "cell_type": "markdown",
   "metadata": {
    "id": "ninJ63mJEEYt"
   },
   "source": [
    "# Метрика\n",
    "\n",
    "Перед решением любой задачи важно понимать, как будет оцениваться ваше решение. В данном случае мы используем стандартную для задачи классификации метрику ROC-AUC. Ее можно вычислить используя только предсказанные вероятности и истинные классы без конкретного порога классификации + она раотает даже если классы в данных сильно несбалансированны (примеров одного класса в десятки раз больше примеров длугого). Именно поэтому она очень удобна для соревнований.\n",
    "\n",
    "Посчитать ее легко:\n"
   ]
  },
  {
   "cell_type": "code",
   "execution_count": 1,
   "metadata": {
    "colab": {
     "base_uri": "https://localhost:8080/"
    },
    "id": "SQIrka7yEEYu",
    "outputId": "d10365cd-104b-41a1-ead4-e2ac99384d25"
   },
   "outputs": [
    {
     "data": {
      "text/plain": [
       "0.8333333333333333"
      ]
     },
     "execution_count": 1,
     "metadata": {},
     "output_type": "execute_result"
    }
   ],
   "source": [
    "from sklearn.metrics import roc_auc_score\n",
    "\n",
    "y_true = [\n",
    "    0,\n",
    "    1,\n",
    "    1,\n",
    "    0,\n",
    "    1\n",
    "]\n",
    "\n",
    "y_predictions = [\n",
    "    0.1,\n",
    "    0.9,\n",
    "    0.4,\n",
    "    0.6,\n",
    "    0.61\n",
    "]\n",
    "\n",
    "roc_auc_score(y_true, y_predictions)"
   ]
  },
  {
   "cell_type": "markdown",
   "metadata": {
    "id": "IrDNNkNTEEYz"
   },
   "source": [
    "# Первая часть. Исследование"
   ]
  },
  {
   "cell_type": "code",
   "execution_count": 2,
   "metadata": {
    "id": "lzLqEeZKEEYz"
   },
   "outputs": [],
   "source": [
    "import pandas as pd\n",
    "import numpy as np\n",
    "from matplotlib import pyplot as plt\n",
    "import re\n",
    "import seaborn as sns"
   ]
  },
  {
   "cell_type": "markdown",
   "metadata": {
    "id": "LOlxdURSEEY3"
   },
   "source": [
    "## Загрузка данных (2 балла)\n",
    "\n",
    "1) Посмотрите на случайные строчки. \n",
    "\n",
    "2) Посмотрите, есть ли в датасете незаполненные значения (nan'ы) с помощью data.isna() или data.info() и, если нужно, замените их на что-то. Будет хорошо, если вы построите табличку с количеством nan в каждой колонке."
   ]
  },
  {
   "cell_type": "code",
   "execution_count": 3,
   "metadata": {
    "id": "pw-Brue9EEY3"
   },
   "outputs": [],
   "source": [
    "url='https://drive.google.com/file/d/1G2kKLdyZexg6AIUp7nHNnhvj0PDiMMTE/view?usp=sharing'\n",
    "url='https://drive.google.com/uc?id=' + url.split('/')[-2]\n",
    "data = pd.read_csv(url)\n",
    "#./train.csv')"
   ]
  },
  {
   "cell_type": "code",
   "execution_count": 4,
   "metadata": {
    "colab": {
     "base_uri": "https://localhost:8080/"
    },
    "id": "9TA9tO4QOLka",
    "outputId": "2d054268-6999-4cc0-843b-4ab94f17d65b"
   },
   "outputs": [
    {
     "data": {
      "text/plain": [
       "Index(['client_period', 'monthly_spending', 'total_spent', 'sex',\n",
       "       'is_senior_citizen', 'has_partner', 'has_child', 'has_phone_service',\n",
       "       'has_multiple_phone_numbers', 'has_internet_service',\n",
       "       'has_online_security_service', 'has_online_backup',\n",
       "       'has_device_protection', 'has_tech_support_access', 'has_online_t_v',\n",
       "       'has_movie_subscription', 'has_contract_phone', 'is_billing_paperless',\n",
       "       'payment_method', 'churn'],\n",
       "      dtype='object')"
      ]
     },
     "execution_count": 4,
     "metadata": {},
     "output_type": "execute_result"
    }
   ],
   "source": [
    "#переведем в змеиный стиль столбцы\n",
    "data.columns = ['_'.join(re.split(r'(?=[A-Z])', i))\n",
    "              .strip('_').lower() for i in data.columns]\n",
    "data.columns"
   ]
  },
  {
   "cell_type": "code",
   "execution_count": 5,
   "metadata": {
    "colab": {
     "base_uri": "https://localhost:8080/"
    },
    "id": "KgnkkF5bEEY9",
    "outputId": "7a9061a0-9f64-49ee-a7a5-48663d47bebd"
   },
   "outputs": [
    {
     "data": {
      "text/plain": [
       "['client_period',\n",
       " 'monthly_spending',\n",
       " 'total_spent',\n",
       " 'sex',\n",
       " 'is_senior_citizen',\n",
       " 'has_partner',\n",
       " 'has_child',\n",
       " 'has_phone_service',\n",
       " 'has_multiple_phone_numbers',\n",
       " 'has_internet_service',\n",
       " 'has_online_security_service',\n",
       " 'has_online_backup',\n",
       " 'has_device_protection',\n",
       " 'has_tech_support_access',\n",
       " 'has_online_t_v',\n",
       " 'has_movie_subscription',\n",
       " 'has_contract_phone',\n",
       " 'is_billing_paperless',\n",
       " 'payment_method']"
      ]
     },
     "execution_count": 5,
     "metadata": {},
     "output_type": "execute_result"
    }
   ],
   "source": [
    "# Для вашего удобства списки с именами разных колонок\n",
    "\n",
    "# Числовые признаки\n",
    "num_cols = [\n",
    "    'ClientPeriod',\n",
    "    'MonthlySpending',\n",
    "    'TotalSpent'\n",
    "]\n",
    "\n",
    "# Категориальные признаки\n",
    "cat_cols = [\n",
    "    'Sex',\n",
    "    'IsSeniorCitizen',\n",
    "    'HasPartner',\n",
    "    'HasChild',\n",
    "    'HasPhoneService',\n",
    "    'HasMultiplePhoneNumbers',\n",
    "    'HasInternetService',\n",
    "    'HasOnlineSecurityService',\n",
    "    'HasOnlineBackup',\n",
    "    'HasDeviceProtection',\n",
    "    'HasTechSupportAccess',\n",
    "    'HasOnlineTV',\n",
    "    'HasMovieSubscription',\n",
    "    'HasContractPhone',\n",
    "    'IsBillingPaperless',\n",
    "    'PaymentMethod'\n",
    "]\n",
    "\n",
    "#тоже змеиный стиль\n",
    "num_cols = ['_'.join(re.split(r'(?=[A-Z])', i))\n",
    "              .strip('_').lower() for i in num_cols]\n",
    "cat_cols = ['_'.join(re.split(r'(?=[A-Z])', i))\n",
    "              .strip('_').lower() for i in cat_cols]\n",
    "\n",
    "feature_cols = num_cols + cat_cols\n",
    "target_col = 'churn'\n",
    "feature_cols"
   ]
  },
  {
   "cell_type": "code",
   "execution_count": 6,
   "metadata": {
    "colab": {
     "base_uri": "https://localhost:8080/"
    },
    "id": "tHC6gWabEEZA",
    "outputId": "0ba7df0a-d805-4927-f3c1-77d03c92f8c6"
   },
   "outputs": [
    {
     "name": "stdout",
     "output_type": "stream",
     "text": [
      "<class 'pandas.core.frame.DataFrame'>\n",
      "RangeIndex: 5282 entries, 0 to 5281\n",
      "Data columns (total 20 columns):\n",
      " #   Column                       Non-Null Count  Dtype  \n",
      "---  ------                       --------------  -----  \n",
      " 0   client_period                5282 non-null   int64  \n",
      " 1   monthly_spending             5282 non-null   float64\n",
      " 2   total_spent                  5282 non-null   object \n",
      " 3   sex                          5282 non-null   object \n",
      " 4   is_senior_citizen            5282 non-null   int64  \n",
      " 5   has_partner                  5282 non-null   object \n",
      " 6   has_child                    5282 non-null   object \n",
      " 7   has_phone_service            5282 non-null   object \n",
      " 8   has_multiple_phone_numbers   5282 non-null   object \n",
      " 9   has_internet_service         5282 non-null   object \n",
      " 10  has_online_security_service  5282 non-null   object \n",
      " 11  has_online_backup            5282 non-null   object \n",
      " 12  has_device_protection        5282 non-null   object \n",
      " 13  has_tech_support_access      5282 non-null   object \n",
      " 14  has_online_t_v               5282 non-null   object \n",
      " 15  has_movie_subscription       5282 non-null   object \n",
      " 16  has_contract_phone           5282 non-null   object \n",
      " 17  is_billing_paperless         5282 non-null   object \n",
      " 18  payment_method               5282 non-null   object \n",
      " 19  churn                        5282 non-null   int64  \n",
      "dtypes: float64(1), int64(3), object(16)\n",
      "memory usage: 825.4+ KB\n"
     ]
    }
   ],
   "source": [
    "# YOUR CODE\n",
    "data.info()"
   ]
  },
  {
   "cell_type": "code",
   "execution_count": 7,
   "metadata": {
    "colab": {
     "base_uri": "https://localhost:8080/",
     "height": 676
    },
    "id": "P6XdCdBSSlAD",
    "outputId": "c0377683-522d-4b86-ebac-167c79028990"
   },
   "outputs": [
    {
     "data": {
      "text/html": [
       "\n",
       "  <div id=\"df-61e4d0c6-9823-4071-bc78-5226eef4f3a3\">\n",
       "    <div class=\"colab-df-container\">\n",
       "      <div>\n",
       "<style scoped>\n",
       "    .dataframe tbody tr th:only-of-type {\n",
       "        vertical-align: middle;\n",
       "    }\n",
       "\n",
       "    .dataframe tbody tr th {\n",
       "        vertical-align: top;\n",
       "    }\n",
       "\n",
       "    .dataframe thead th {\n",
       "        text-align: right;\n",
       "    }\n",
       "</style>\n",
       "<table border=\"1\" class=\"dataframe\">\n",
       "  <thead>\n",
       "    <tr style=\"text-align: right;\">\n",
       "      <th></th>\n",
       "      <th>0</th>\n",
       "      <th>1</th>\n",
       "      <th>2</th>\n",
       "      <th>3</th>\n",
       "      <th>4</th>\n",
       "    </tr>\n",
       "  </thead>\n",
       "  <tbody>\n",
       "    <tr>\n",
       "      <th>client_period</th>\n",
       "      <td>55</td>\n",
       "      <td>72</td>\n",
       "      <td>1</td>\n",
       "      <td>32</td>\n",
       "      <td>60</td>\n",
       "    </tr>\n",
       "    <tr>\n",
       "      <th>monthly_spending</th>\n",
       "      <td>19.5</td>\n",
       "      <td>25.85</td>\n",
       "      <td>75.9</td>\n",
       "      <td>79.3</td>\n",
       "      <td>115.25</td>\n",
       "    </tr>\n",
       "    <tr>\n",
       "      <th>total_spent</th>\n",
       "      <td>1026.35</td>\n",
       "      <td>1872.2</td>\n",
       "      <td>75.9</td>\n",
       "      <td>2570</td>\n",
       "      <td>6758.45</td>\n",
       "    </tr>\n",
       "    <tr>\n",
       "      <th>sex</th>\n",
       "      <td>Male</td>\n",
       "      <td>Male</td>\n",
       "      <td>Male</td>\n",
       "      <td>Female</td>\n",
       "      <td>Female</td>\n",
       "    </tr>\n",
       "    <tr>\n",
       "      <th>is_senior_citizen</th>\n",
       "      <td>0</td>\n",
       "      <td>0</td>\n",
       "      <td>0</td>\n",
       "      <td>1</td>\n",
       "      <td>0</td>\n",
       "    </tr>\n",
       "    <tr>\n",
       "      <th>has_partner</th>\n",
       "      <td>Yes</td>\n",
       "      <td>Yes</td>\n",
       "      <td>No</td>\n",
       "      <td>Yes</td>\n",
       "      <td>Yes</td>\n",
       "    </tr>\n",
       "    <tr>\n",
       "      <th>has_child</th>\n",
       "      <td>Yes</td>\n",
       "      <td>No</td>\n",
       "      <td>No</td>\n",
       "      <td>No</td>\n",
       "      <td>Yes</td>\n",
       "    </tr>\n",
       "    <tr>\n",
       "      <th>has_phone_service</th>\n",
       "      <td>Yes</td>\n",
       "      <td>Yes</td>\n",
       "      <td>Yes</td>\n",
       "      <td>Yes</td>\n",
       "      <td>Yes</td>\n",
       "    </tr>\n",
       "    <tr>\n",
       "      <th>has_multiple_phone_numbers</th>\n",
       "      <td>No</td>\n",
       "      <td>Yes</td>\n",
       "      <td>No</td>\n",
       "      <td>Yes</td>\n",
       "      <td>Yes</td>\n",
       "    </tr>\n",
       "    <tr>\n",
       "      <th>has_internet_service</th>\n",
       "      <td>No</td>\n",
       "      <td>No</td>\n",
       "      <td>Fiber optic</td>\n",
       "      <td>Fiber optic</td>\n",
       "      <td>Fiber optic</td>\n",
       "    </tr>\n",
       "    <tr>\n",
       "      <th>has_online_security_service</th>\n",
       "      <td>No internet service</td>\n",
       "      <td>No internet service</td>\n",
       "      <td>No</td>\n",
       "      <td>No</td>\n",
       "      <td>Yes</td>\n",
       "    </tr>\n",
       "    <tr>\n",
       "      <th>has_online_backup</th>\n",
       "      <td>No internet service</td>\n",
       "      <td>No internet service</td>\n",
       "      <td>No</td>\n",
       "      <td>No</td>\n",
       "      <td>Yes</td>\n",
       "    </tr>\n",
       "    <tr>\n",
       "      <th>has_device_protection</th>\n",
       "      <td>No internet service</td>\n",
       "      <td>No internet service</td>\n",
       "      <td>No</td>\n",
       "      <td>Yes</td>\n",
       "      <td>Yes</td>\n",
       "    </tr>\n",
       "    <tr>\n",
       "      <th>has_tech_support_access</th>\n",
       "      <td>No internet service</td>\n",
       "      <td>No internet service</td>\n",
       "      <td>Yes</td>\n",
       "      <td>No</td>\n",
       "      <td>Yes</td>\n",
       "    </tr>\n",
       "    <tr>\n",
       "      <th>has_online_t_v</th>\n",
       "      <td>No internet service</td>\n",
       "      <td>No internet service</td>\n",
       "      <td>No</td>\n",
       "      <td>No</td>\n",
       "      <td>Yes</td>\n",
       "    </tr>\n",
       "    <tr>\n",
       "      <th>has_movie_subscription</th>\n",
       "      <td>No internet service</td>\n",
       "      <td>No internet service</td>\n",
       "      <td>No</td>\n",
       "      <td>No</td>\n",
       "      <td>Yes</td>\n",
       "    </tr>\n",
       "    <tr>\n",
       "      <th>has_contract_phone</th>\n",
       "      <td>One year</td>\n",
       "      <td>Two year</td>\n",
       "      <td>Month-to-month</td>\n",
       "      <td>Month-to-month</td>\n",
       "      <td>Two year</td>\n",
       "    </tr>\n",
       "    <tr>\n",
       "      <th>is_billing_paperless</th>\n",
       "      <td>No</td>\n",
       "      <td>No</td>\n",
       "      <td>Yes</td>\n",
       "      <td>No</td>\n",
       "      <td>No</td>\n",
       "    </tr>\n",
       "    <tr>\n",
       "      <th>payment_method</th>\n",
       "      <td>Mailed check</td>\n",
       "      <td>Credit card (automatic)</td>\n",
       "      <td>Electronic check</td>\n",
       "      <td>Mailed check</td>\n",
       "      <td>Credit card (automatic)</td>\n",
       "    </tr>\n",
       "    <tr>\n",
       "      <th>churn</th>\n",
       "      <td>0</td>\n",
       "      <td>0</td>\n",
       "      <td>1</td>\n",
       "      <td>0</td>\n",
       "      <td>0</td>\n",
       "    </tr>\n",
       "  </tbody>\n",
       "</table>\n",
       "</div>\n",
       "      <button class=\"colab-df-convert\" onclick=\"convertToInteractive('df-61e4d0c6-9823-4071-bc78-5226eef4f3a3')\"\n",
       "              title=\"Convert this dataframe to an interactive table.\"\n",
       "              style=\"display:none;\">\n",
       "        \n",
       "  <svg xmlns=\"http://www.w3.org/2000/svg\" height=\"24px\"viewBox=\"0 0 24 24\"\n",
       "       width=\"24px\">\n",
       "    <path d=\"M0 0h24v24H0V0z\" fill=\"none\"/>\n",
       "    <path d=\"M18.56 5.44l.94 2.06.94-2.06 2.06-.94-2.06-.94-.94-2.06-.94 2.06-2.06.94zm-11 1L8.5 8.5l.94-2.06 2.06-.94-2.06-.94L8.5 2.5l-.94 2.06-2.06.94zm10 10l.94 2.06.94-2.06 2.06-.94-2.06-.94-.94-2.06-.94 2.06-2.06.94z\"/><path d=\"M17.41 7.96l-1.37-1.37c-.4-.4-.92-.59-1.43-.59-.52 0-1.04.2-1.43.59L10.3 9.45l-7.72 7.72c-.78.78-.78 2.05 0 2.83L4 21.41c.39.39.9.59 1.41.59.51 0 1.02-.2 1.41-.59l7.78-7.78 2.81-2.81c.8-.78.8-2.07 0-2.86zM5.41 20L4 18.59l7.72-7.72 1.47 1.35L5.41 20z\"/>\n",
       "  </svg>\n",
       "      </button>\n",
       "      \n",
       "  <style>\n",
       "    .colab-df-container {\n",
       "      display:flex;\n",
       "      flex-wrap:wrap;\n",
       "      gap: 12px;\n",
       "    }\n",
       "\n",
       "    .colab-df-convert {\n",
       "      background-color: #E8F0FE;\n",
       "      border: none;\n",
       "      border-radius: 50%;\n",
       "      cursor: pointer;\n",
       "      display: none;\n",
       "      fill: #1967D2;\n",
       "      height: 32px;\n",
       "      padding: 0 0 0 0;\n",
       "      width: 32px;\n",
       "    }\n",
       "\n",
       "    .colab-df-convert:hover {\n",
       "      background-color: #E2EBFA;\n",
       "      box-shadow: 0px 1px 2px rgba(60, 64, 67, 0.3), 0px 1px 3px 1px rgba(60, 64, 67, 0.15);\n",
       "      fill: #174EA6;\n",
       "    }\n",
       "\n",
       "    [theme=dark] .colab-df-convert {\n",
       "      background-color: #3B4455;\n",
       "      fill: #D2E3FC;\n",
       "    }\n",
       "\n",
       "    [theme=dark] .colab-df-convert:hover {\n",
       "      background-color: #434B5C;\n",
       "      box-shadow: 0px 1px 3px 1px rgba(0, 0, 0, 0.15);\n",
       "      filter: drop-shadow(0px 1px 2px rgba(0, 0, 0, 0.3));\n",
       "      fill: #FFFFFF;\n",
       "    }\n",
       "  </style>\n",
       "\n",
       "      <script>\n",
       "        const buttonEl =\n",
       "          document.querySelector('#df-61e4d0c6-9823-4071-bc78-5226eef4f3a3 button.colab-df-convert');\n",
       "        buttonEl.style.display =\n",
       "          google.colab.kernel.accessAllowed ? 'block' : 'none';\n",
       "\n",
       "        async function convertToInteractive(key) {\n",
       "          const element = document.querySelector('#df-61e4d0c6-9823-4071-bc78-5226eef4f3a3');\n",
       "          const dataTable =\n",
       "            await google.colab.kernel.invokeFunction('convertToInteractive',\n",
       "                                                     [key], {});\n",
       "          if (!dataTable) return;\n",
       "\n",
       "          const docLinkHtml = 'Like what you see? Visit the ' +\n",
       "            '<a target=\"_blank\" href=https://colab.research.google.com/notebooks/data_table.ipynb>data table notebook</a>'\n",
       "            + ' to learn more about interactive tables.';\n",
       "          element.innerHTML = '';\n",
       "          dataTable['output_type'] = 'display_data';\n",
       "          await google.colab.output.renderOutput(dataTable, element);\n",
       "          const docLink = document.createElement('div');\n",
       "          docLink.innerHTML = docLinkHtml;\n",
       "          element.appendChild(docLink);\n",
       "        }\n",
       "      </script>\n",
       "    </div>\n",
       "  </div>\n",
       "  "
      ],
      "text/plain": [
       "                                               0                        1  \\\n",
       "client_period                                 55                       72   \n",
       "monthly_spending                            19.5                    25.85   \n",
       "total_spent                              1026.35                   1872.2   \n",
       "sex                                         Male                     Male   \n",
       "is_senior_citizen                              0                        0   \n",
       "has_partner                                  Yes                      Yes   \n",
       "has_child                                    Yes                       No   \n",
       "has_phone_service                            Yes                      Yes   \n",
       "has_multiple_phone_numbers                    No                      Yes   \n",
       "has_internet_service                          No                       No   \n",
       "has_online_security_service  No internet service      No internet service   \n",
       "has_online_backup            No internet service      No internet service   \n",
       "has_device_protection        No internet service      No internet service   \n",
       "has_tech_support_access      No internet service      No internet service   \n",
       "has_online_t_v               No internet service      No internet service   \n",
       "has_movie_subscription       No internet service      No internet service   \n",
       "has_contract_phone                      One year                 Two year   \n",
       "is_billing_paperless                          No                       No   \n",
       "payment_method                      Mailed check  Credit card (automatic)   \n",
       "churn                                          0                        0   \n",
       "\n",
       "                                            2               3  \\\n",
       "client_period                               1              32   \n",
       "monthly_spending                         75.9            79.3   \n",
       "total_spent                              75.9            2570   \n",
       "sex                                      Male          Female   \n",
       "is_senior_citizen                           0               1   \n",
       "has_partner                                No             Yes   \n",
       "has_child                                  No              No   \n",
       "has_phone_service                         Yes             Yes   \n",
       "has_multiple_phone_numbers                 No             Yes   \n",
       "has_internet_service              Fiber optic     Fiber optic   \n",
       "has_online_security_service                No              No   \n",
       "has_online_backup                          No              No   \n",
       "has_device_protection                      No             Yes   \n",
       "has_tech_support_access                   Yes              No   \n",
       "has_online_t_v                             No              No   \n",
       "has_movie_subscription                     No              No   \n",
       "has_contract_phone             Month-to-month  Month-to-month   \n",
       "is_billing_paperless                      Yes              No   \n",
       "payment_method               Electronic check    Mailed check   \n",
       "churn                                       1               0   \n",
       "\n",
       "                                                   4  \n",
       "client_period                                     60  \n",
       "monthly_spending                              115.25  \n",
       "total_spent                                  6758.45  \n",
       "sex                                           Female  \n",
       "is_senior_citizen                                  0  \n",
       "has_partner                                      Yes  \n",
       "has_child                                        Yes  \n",
       "has_phone_service                                Yes  \n",
       "has_multiple_phone_numbers                       Yes  \n",
       "has_internet_service                     Fiber optic  \n",
       "has_online_security_service                      Yes  \n",
       "has_online_backup                                Yes  \n",
       "has_device_protection                            Yes  \n",
       "has_tech_support_access                          Yes  \n",
       "has_online_t_v                                   Yes  \n",
       "has_movie_subscription                           Yes  \n",
       "has_contract_phone                          Two year  \n",
       "is_billing_paperless                              No  \n",
       "payment_method               Credit card (automatic)  \n",
       "churn                                              0  "
      ]
     },
     "execution_count": 7,
     "metadata": {},
     "output_type": "execute_result"
    }
   ],
   "source": [
    "data.head(5).T"
   ]
  },
  {
   "cell_type": "code",
   "execution_count": 8,
   "metadata": {
    "colab": {
     "base_uri": "https://localhost:8080/"
    },
    "id": "BY0IvidFSq77",
    "outputId": "b37f6b1b-39c2-4ecb-e742-724949cbccc5"
   },
   "outputs": [
    {
     "data": {
      "text/plain": [
       "str"
      ]
     },
     "execution_count": 8,
     "metadata": {},
     "output_type": "execute_result"
    }
   ],
   "source": [
    "#столбец total_spent имеет тип object, значит там есть текстовые значения\n",
    "#или числовые значения представлены как текстовые\n",
    "type(data['total_spent'][0])"
   ]
  },
  {
   "cell_type": "code",
   "execution_count": 9,
   "metadata": {
    "colab": {
     "base_uri": "https://localhost:8080/",
     "height": 36
    },
    "id": "Os-1y-agUqSX",
    "outputId": "e309aabd-5119-4bb0-af42-63bc0e83116c"
   },
   "outputs": [
    {
     "data": {
      "application/vnd.google.colaboratory.intrinsic+json": {
       "type": "string"
      },
      "text/plain": [
       "'1026.35'"
      ]
     },
     "execution_count": 9,
     "metadata": {},
     "output_type": "execute_result"
    }
   ],
   "source": [
    "data['total_spent'][0]"
   ]
  },
  {
   "cell_type": "code",
   "execution_count": 10,
   "metadata": {
    "colab": {
     "base_uri": "https://localhost:8080/"
    },
    "id": "u_nIcu29VRmO",
    "outputId": "243506c4-bfdb-4191-80a1-09fe408f6802"
   },
   "outputs": [
    {
     "data": {
      "text/plain": [
       "dtype('float64')"
      ]
     },
     "execution_count": 10,
     "metadata": {},
     "output_type": "execute_result"
    }
   ],
   "source": [
    "data['total_spent'] = pd.to_numeric(data['total_spent'], errors='coerce')\n",
    "data['total_spent'].dtypes"
   ]
  },
  {
   "cell_type": "code",
   "execution_count": 11,
   "metadata": {
    "colab": {
     "base_uri": "https://localhost:8080/"
    },
    "id": "BdzMtMRBVvg5",
    "outputId": "2a3621a4-d76d-4f2c-d545-305da9b5197d"
   },
   "outputs": [
    {
     "data": {
      "text/plain": [
       "9"
      ]
     },
     "execution_count": 11,
     "metadata": {},
     "output_type": "execute_result"
    }
   ],
   "source": [
    "#посмотрим появившиеся пропуски\n",
    "data['total_spent'].isna().sum()"
   ]
  },
  {
   "cell_type": "code",
   "execution_count": 12,
   "metadata": {
    "colab": {
     "base_uri": "https://localhost:8080/"
    },
    "id": "GqyfikQ4N5Ey",
    "outputId": "e0841863-da4c-4ac5-e7d2-c19477f4750b"
   },
   "outputs": [
    {
     "data": {
      "text/plain": [
       "client_period                  0\n",
       "monthly_spending               0\n",
       "total_spent                    9\n",
       "sex                            0\n",
       "is_senior_citizen              0\n",
       "has_partner                    0\n",
       "has_child                      0\n",
       "has_phone_service              0\n",
       "has_multiple_phone_numbers     0\n",
       "has_internet_service           0\n",
       "has_online_security_service    0\n",
       "has_online_backup              0\n",
       "has_device_protection          0\n",
       "has_tech_support_access        0\n",
       "has_online_t_v                 0\n",
       "has_movie_subscription         0\n",
       "has_contract_phone             0\n",
       "is_billing_paperless           0\n",
       "payment_method                 0\n",
       "churn                          0\n",
       "dtype: int64"
      ]
     },
     "execution_count": 12,
     "metadata": {},
     "output_type": "execute_result"
    }
   ],
   "source": [
    "data.isna().sum()"
   ]
  },
  {
   "cell_type": "markdown",
   "metadata": {
    "id": "ane9bt67W2l2"
   },
   "source": [
    "* Явных пропусков не было, но есть пропущенные значения в столбце total_spent - их всего 9"
   ]
  },
  {
   "cell_type": "code",
   "execution_count": 13,
   "metadata": {
    "id": "Rlg_4b4bWKoZ"
   },
   "outputs": [],
   "source": [
    "#удалим строки с пропусками, их всего 9 штук\n",
    "data = data.dropna()"
   ]
  },
  {
   "cell_type": "markdown",
   "metadata": {
    "id": "dK370bPCEEZD"
   },
   "source": [
    "## Анализ данных (3 балла)\n",
    "\n",
    "1) Для численных призанков постройте гистограмму (*plt.hist(...)*) или boxplot (*plt.boxplot(...)*). Для категориальных посчитайте количество каждого значения для каждого признака. Для каждой колонки надо сделать *data.value_counts()* и построить bar диаграммы *plt.bar(...)* или круговые диаграммы *plt.pie(...)* (хорошо, елси вы сможете это сделать на одном гарфике с помощью *plt.subplots(...)*). \n",
    "\n",
    "2) Посмотрите на распределение целевой переменной и скажите, являются ли классы несбалансированными.\n",
    "\n",
    "3) (Если будет желание) Поиграйте с разными библиотеками для визуализации - *sns*, *pandas_visual_analysis*, etc.\n",
    "\n",
    "Второй пункт очень важен, потому что существуют задачи классификации с несбалансированными классами. Например, это может значить, что в датасете намного больше примеров 0 класса. В таких случаях нужно 1) не использовать accuracy как метрику 2) использовать методы борьбы с imbalanced dataset (обычно если датасет сильно несбалансирован, т.е. класса 1 в 20 раз меньше класса 0)."
   ]
  },
  {
   "cell_type": "code",
   "execution_count": 14,
   "metadata": {
    "id": "NZkbgFJZEEZE"
   },
   "outputs": [],
   "source": [
    "# YOUR CODE\n",
    "#посмотрим численные признаки\n",
    "#напишем функцию для вывода обоих графиков\n",
    "def hist_boxplot(data, col):\n",
    "    \n",
    "    plt.figure(figsize=(18, 2))\n",
    "    ax = sns.boxplot(\n",
    "        x=data[col],\n",
    "        showmeans=True,\n",
    "        color='#25AC99',\n",
    "        width = .4,\n",
    "        meanprops={\n",
    "            'marker': 'o',\n",
    "            'markerfacecolor': '#FAFFFA',\n",
    "            'markeredgecolor': '#000000',\n",
    "            'markersize': '7'\n",
    "        }\n",
    "    )\n",
    "    plt.title('Boxplot {0}'.format(col))\n",
    "    #plt.xlim(0.95*data[col].min(), \n",
    "    #        1.05*data[col].max())\n",
    "\n",
    "    fig = plt.subplots(figsize=(16, 2.5))\n",
    "    sns.histplot(\n",
    "        data[col],\n",
    "        color='#25AC99',\n",
    "        kde=True\n",
    "    ).set_title(\n",
    "        'Hist {0}'.format(col)\n",
    "    )\n",
    "    #plt.xlim(0.95*data[col].min(), \n",
    "    #        1.05*data[col].max())\n",
    "    plt.show()"
   ]
  },
  {
   "cell_type": "code",
   "execution_count": 15,
   "metadata": {
    "colab": {
     "base_uri": "https://localhost:8080/",
     "height": 300
    },
    "id": "1G0SZxc-bdom",
    "outputId": "0600564a-0adb-4fdb-9f33-b5803cb96742"
   },
   "outputs": [
    {
     "data": {
      "text/html": [
       "\n",
       "  <div id=\"df-3f1dc26a-7e35-4e5f-bb49-0c7eb364eb9c\">\n",
       "    <div class=\"colab-df-container\">\n",
       "      <div>\n",
       "<style scoped>\n",
       "    .dataframe tbody tr th:only-of-type {\n",
       "        vertical-align: middle;\n",
       "    }\n",
       "\n",
       "    .dataframe tbody tr th {\n",
       "        vertical-align: top;\n",
       "    }\n",
       "\n",
       "    .dataframe thead th {\n",
       "        text-align: right;\n",
       "    }\n",
       "</style>\n",
       "<table border=\"1\" class=\"dataframe\">\n",
       "  <thead>\n",
       "    <tr style=\"text-align: right;\">\n",
       "      <th></th>\n",
       "      <th>client_period</th>\n",
       "      <th>monthly_spending</th>\n",
       "      <th>total_spent</th>\n",
       "    </tr>\n",
       "  </thead>\n",
       "  <tbody>\n",
       "    <tr>\n",
       "      <th>count</th>\n",
       "      <td>5273</td>\n",
       "      <td>5273</td>\n",
       "      <td>5273</td>\n",
       "    </tr>\n",
       "    <tr>\n",
       "      <th>mean</th>\n",
       "      <td>32</td>\n",
       "      <td>64</td>\n",
       "      <td>2291</td>\n",
       "    </tr>\n",
       "    <tr>\n",
       "      <th>std</th>\n",
       "      <td>24</td>\n",
       "      <td>30</td>\n",
       "      <td>2269</td>\n",
       "    </tr>\n",
       "    <tr>\n",
       "      <th>min</th>\n",
       "      <td>1</td>\n",
       "      <td>18</td>\n",
       "      <td>18</td>\n",
       "    </tr>\n",
       "    <tr>\n",
       "      <th>25%</th>\n",
       "      <td>9</td>\n",
       "      <td>35</td>\n",
       "      <td>401</td>\n",
       "    </tr>\n",
       "    <tr>\n",
       "      <th>50%</th>\n",
       "      <td>29</td>\n",
       "      <td>70</td>\n",
       "      <td>1410</td>\n",
       "    </tr>\n",
       "    <tr>\n",
       "      <th>75%</th>\n",
       "      <td>55</td>\n",
       "      <td>90</td>\n",
       "      <td>3807</td>\n",
       "    </tr>\n",
       "    <tr>\n",
       "      <th>max</th>\n",
       "      <td>72</td>\n",
       "      <td>118</td>\n",
       "      <td>8684</td>\n",
       "    </tr>\n",
       "  </tbody>\n",
       "</table>\n",
       "</div>\n",
       "      <button class=\"colab-df-convert\" onclick=\"convertToInteractive('df-3f1dc26a-7e35-4e5f-bb49-0c7eb364eb9c')\"\n",
       "              title=\"Convert this dataframe to an interactive table.\"\n",
       "              style=\"display:none;\">\n",
       "        \n",
       "  <svg xmlns=\"http://www.w3.org/2000/svg\" height=\"24px\"viewBox=\"0 0 24 24\"\n",
       "       width=\"24px\">\n",
       "    <path d=\"M0 0h24v24H0V0z\" fill=\"none\"/>\n",
       "    <path d=\"M18.56 5.44l.94 2.06.94-2.06 2.06-.94-2.06-.94-.94-2.06-.94 2.06-2.06.94zm-11 1L8.5 8.5l.94-2.06 2.06-.94-2.06-.94L8.5 2.5l-.94 2.06-2.06.94zm10 10l.94 2.06.94-2.06 2.06-.94-2.06-.94-.94-2.06-.94 2.06-2.06.94z\"/><path d=\"M17.41 7.96l-1.37-1.37c-.4-.4-.92-.59-1.43-.59-.52 0-1.04.2-1.43.59L10.3 9.45l-7.72 7.72c-.78.78-.78 2.05 0 2.83L4 21.41c.39.39.9.59 1.41.59.51 0 1.02-.2 1.41-.59l7.78-7.78 2.81-2.81c.8-.78.8-2.07 0-2.86zM5.41 20L4 18.59l7.72-7.72 1.47 1.35L5.41 20z\"/>\n",
       "  </svg>\n",
       "      </button>\n",
       "      \n",
       "  <style>\n",
       "    .colab-df-container {\n",
       "      display:flex;\n",
       "      flex-wrap:wrap;\n",
       "      gap: 12px;\n",
       "    }\n",
       "\n",
       "    .colab-df-convert {\n",
       "      background-color: #E8F0FE;\n",
       "      border: none;\n",
       "      border-radius: 50%;\n",
       "      cursor: pointer;\n",
       "      display: none;\n",
       "      fill: #1967D2;\n",
       "      height: 32px;\n",
       "      padding: 0 0 0 0;\n",
       "      width: 32px;\n",
       "    }\n",
       "\n",
       "    .colab-df-convert:hover {\n",
       "      background-color: #E2EBFA;\n",
       "      box-shadow: 0px 1px 2px rgba(60, 64, 67, 0.3), 0px 1px 3px 1px rgba(60, 64, 67, 0.15);\n",
       "      fill: #174EA6;\n",
       "    }\n",
       "\n",
       "    [theme=dark] .colab-df-convert {\n",
       "      background-color: #3B4455;\n",
       "      fill: #D2E3FC;\n",
       "    }\n",
       "\n",
       "    [theme=dark] .colab-df-convert:hover {\n",
       "      background-color: #434B5C;\n",
       "      box-shadow: 0px 1px 3px 1px rgba(0, 0, 0, 0.15);\n",
       "      filter: drop-shadow(0px 1px 2px rgba(0, 0, 0, 0.3));\n",
       "      fill: #FFFFFF;\n",
       "    }\n",
       "  </style>\n",
       "\n",
       "      <script>\n",
       "        const buttonEl =\n",
       "          document.querySelector('#df-3f1dc26a-7e35-4e5f-bb49-0c7eb364eb9c button.colab-df-convert');\n",
       "        buttonEl.style.display =\n",
       "          google.colab.kernel.accessAllowed ? 'block' : 'none';\n",
       "\n",
       "        async function convertToInteractive(key) {\n",
       "          const element = document.querySelector('#df-3f1dc26a-7e35-4e5f-bb49-0c7eb364eb9c');\n",
       "          const dataTable =\n",
       "            await google.colab.kernel.invokeFunction('convertToInteractive',\n",
       "                                                     [key], {});\n",
       "          if (!dataTable) return;\n",
       "\n",
       "          const docLinkHtml = 'Like what you see? Visit the ' +\n",
       "            '<a target=\"_blank\" href=https://colab.research.google.com/notebooks/data_table.ipynb>data table notebook</a>'\n",
       "            + ' to learn more about interactive tables.';\n",
       "          element.innerHTML = '';\n",
       "          dataTable['output_type'] = 'display_data';\n",
       "          await google.colab.output.renderOutput(dataTable, element);\n",
       "          const docLink = document.createElement('div');\n",
       "          docLink.innerHTML = docLinkHtml;\n",
       "          element.appendChild(docLink);\n",
       "        }\n",
       "      </script>\n",
       "    </div>\n",
       "  </div>\n",
       "  "
      ],
      "text/plain": [
       "       client_period  monthly_spending  total_spent\n",
       "count           5273              5273         5273\n",
       "mean              32                64         2291\n",
       "std               24                30         2269\n",
       "min                1                18           18\n",
       "25%                9                35          401\n",
       "50%               29                70         1410\n",
       "75%               55                90         3807\n",
       "max               72               118         8684"
      ]
     },
     "execution_count": 15,
     "metadata": {},
     "output_type": "execute_result"
    }
   ],
   "source": [
    "data[num_cols].describe().astype(int)"
   ]
  },
  {
   "cell_type": "code",
   "execution_count": 16,
   "metadata": {
    "colab": {
     "base_uri": "https://localhost:8080/",
     "height": 1000
    },
    "id": "u67c4Tu1OOsD",
    "outputId": "041d1e21-d732-426f-8b40-e12db27a375d"
   },
   "outputs": [
    {
     "data": {
      "image/png": "[encoded data removed]",
      "text/plain": [
       "<Figure size 1296x144 with 1 Axes>"
      ]
     },
     "metadata": {
      "needs_background": "light"
     },
     "output_type": "display_data"
    },
    {
     "data": {
      "image/png": "[encoded data removed]",
      "text/plain": [
       "<Figure size 1152x180 with 1 Axes>"
      ]
     },
     "metadata": {
      "needs_background": "light"
     },
     "output_type": "display_data"
    },
    {
     "name": "stdout",
     "output_type": "stream",
     "text": [
      "\n"
     ]
    },
    {
     "data": {
      "image/png": "[encoded data removed]",
      "text/plain": [
       "<Figure size 1296x144 with 1 Axes>"
      ]
     },
     "metadata": {
      "needs_background": "light"
     },
     "output_type": "display_data"
    },
    {
     "data": {
      "image/png": "[encoded data removed]",
      "text/plain": [
       "<Figure size 1152x180 with 1 Axes>"
      ]
     },
     "metadata": {
      "needs_background": "light"
     },
     "output_type": "display_data"
    },
    {
     "name": "stdout",
     "output_type": "stream",
     "text": [
      "\n"
     ]
    },
    {
     "data": {
      "image/png": "[encoded data removed]",
      "text/plain": [
       "<Figure size 1296x144 with 1 Axes>"
      ]
     },
     "metadata": {
      "needs_background": "light"
     },
     "output_type": "display_data"
    },
    {
     "data": {
      "image/png": "[encoded data removed]",
      "text/plain": [
       "<Figure size 1152x180 with 1 Axes>"
      ]
     },
     "metadata": {
      "needs_background": "light"
     },
     "output_type": "display_data"
    }
   ],
   "source": [
    "hist_boxplot(data, num_cols[0]);\n",
    "print()\n",
    "hist_boxplot(data, num_cols[1]);\n",
    "print()\n",
    "hist_boxplot(data, num_cols[2]);"
   ]
  },
  {
   "cell_type": "markdown",
   "metadata": {
    "id": "DtzDBjsRg0-K"
   },
   "source": [
    "* можем видеть, что выбросов в смысле значений, выходящих за пределы полуторного межквартильного интервала, нету"
   ]
  },
  {
   "cell_type": "code",
   "execution_count": 17,
   "metadata": {
    "id": "SLl3WH1gcbRQ"
   },
   "outputs": [],
   "source": [
    "colors = sns.color_palette('pastel')[0:5]\n",
    "\n",
    "#построим графики для категориальных переменных\n",
    "def bar_pie(data, col):\n",
    "    t = data[col].value_counts()\n",
    "\n",
    "    fig, axs = plt.subplots(1, 2, figsize=(18, t.count()*1.6))\n",
    "\n",
    "    #plt.figure(figsize=(9, t.count()*1.3))\n",
    "    axs[0].barh(t.index, t,\n",
    "            color=colors,\n",
    "            edgecolor='black',\n",
    "            label=t)\n",
    "\n",
    "    axs[0].set_title('Barchart {0}'.format(col))\n",
    "    #axs[0].bar_label(t)\n",
    "\n",
    "    #plt.figure(figsize=(9, t.count()*1.3))\n",
    "    axs[1].pie(t, labels = t.index, \n",
    "            colors = colors,\n",
    "            startangle=180, \n",
    "            autopct='%.1f%%')\n",
    "\n",
    "    axs[1].set_title('Piechart {0}'.format(col))\n",
    "\n",
    "    plt.show()\n",
    "    print()"
   ]
  },
  {
   "cell_type": "code",
   "execution_count": 18,
   "metadata": {
    "colab": {
     "base_uri": "https://localhost:8080/",
     "height": 1000
    },
    "id": "0WtQS503wBKm",
    "outputId": "bb43b3da-0512-4766-d60c-83b30745815c"
   },
   "outputs": [
    {
     "data": {
      "image/png": "[encoded data removed]",
      "text/plain": [
       "<Figure size 1296x230.4 with 2 Axes>"
      ]
     },
     "metadata": {
      "needs_background": "light"
     },
     "output_type": "display_data"
    },
    {
     "name": "stdout",
     "output_type": "stream",
     "text": [
      "\n"
     ]
    },
    {
     "data": {
      "image/png": "[encoded data removed]",
      "text/plain": [
       "<Figure size 1296x230.4 with 2 Axes>"
      ]
     },
     "metadata": {
      "needs_background": "light"
     },
     "output_type": "display_data"
    },
    {
     "name": "stdout",
     "output_type": "stream",
     "text": [
      "\n"
     ]
    },
    {
     "data": {
      "image/png": "[encoded data removed]",
      "text/plain": [
       "<Figure size 1296x230.4 with 2 Axes>"
      ]
     },
     "metadata": {
      "needs_background": "light"
     },
     "output_type": "display_data"
    },
    {
     "name": "stdout",
     "output_type": "stream",
     "text": [
      "\n"
     ]
    },
    {
     "data": {
      "image/png": "[encoded data removed]",
      "text/plain": [
       "<Figure size 1296x230.4 with 2 Axes>"
      ]
     },
     "metadata": {
      "needs_background": "light"
     },
     "output_type": "display_data"
    },
    {
     "name": "stdout",
     "output_type": "stream",
     "text": [
      "\n"
     ]
    },
    {
     "data": {
      "image/png": "[encoded data removed]",
      "text/plain": [
       "<Figure size 1296x230.4 with 2 Axes>"
      ]
     },
     "metadata": {
      "needs_background": "light"
     },
     "output_type": "display_data"
    },
    {
     "name": "stdout",
     "output_type": "stream",
     "text": [
      "\n"
     ]
    },
    {
     "data": {
      "image/png": "[encoded data removed]",
      "text/plain": [
       "<Figure size 1296x345.6 with 2 Axes>"
      ]
     },
     "metadata": {
      "needs_background": "light"
     },
     "output_type": "display_data"
    },
    {
     "name": "stdout",
     "output_type": "stream",
     "text": [
      "\n"
     ]
    },
    {
     "data": {
      "image/png": "[encoded data removed]",
      "text/plain": [
       "<Figure size 1296x345.6 with 2 Axes>"
      ]
     },
     "metadata": {
      "needs_background": "light"
     },
     "output_type": "display_data"
    },
    {
     "name": "stdout",
     "output_type": "stream",
     "text": [
      "\n"
     ]
    },
    {
     "data": {
      "image/png": "[encoded data removed]",
      "text/plain": [
       "<Figure size 1296x345.6 with 2 Axes>"
      ]
     },
     "metadata": {
      "needs_background": "light"
     },
     "output_type": "display_data"
    },
    {
     "name": "stdout",
     "output_type": "stream",
     "text": [
      "\n"
     ]
    },
    {
     "data": {
      "image/png": "[encoded data removed]",
      "text/plain": [
       "<Figure size 1296x345.6 with 2 Axes>"
      ]
     },
     "metadata": {
      "needs_background": "light"
     },
     "output_type": "display_data"
    },
    {
     "name": "stdout",
     "output_type": "stream",
     "text": [
      "\n"
     ]
    },
    {
     "data": {
      "image/png": "[encoded data removed]",
      "text/plain": [
       "<Figure size 1296x345.6 with 2 Axes>"
      ]
     },
     "metadata": {
      "needs_background": "light"
     },
     "output_type": "display_data"
    },
    {
     "name": "stdout",
     "output_type": "stream",
     "text": [
      "\n"
     ]
    },
    {
     "data": {
      "image/png": "[encoded data removed]",
      "text/plain": [
       "<Figure size 1296x345.6 with 2 Axes>"
      ]
     },
     "metadata": {
      "needs_background": "light"
     },
     "output_type": "display_data"
    },
    {
     "name": "stdout",
     "output_type": "stream",
     "text": [
      "\n"
     ]
    },
    {
     "data": {
      "image/png": "[encoded data removed]",
      "text/plain": [
       "<Figure size 1296x345.6 with 2 Axes>"
      ]
     },
     "metadata": {
      "needs_background": "light"
     },
     "output_type": "display_data"
    },
    {
     "name": "stdout",
     "output_type": "stream",
     "text": [
      "\n"
     ]
    },
    {
     "data": {
      "image/png": "[encoded data removed]",
      "text/plain": [
       "<Figure size 1296x345.6 with 2 Axes>"
      ]
     },
     "metadata": {
      "needs_background": "light"
     },
     "output_type": "display_data"
    },
    {
     "name": "stdout",
     "output_type": "stream",
     "text": [
      "\n"
     ]
    },
    {
     "data": {
      "image/png": "[encoded data removed]",
      "text/plain": [
       "<Figure size 1296x345.6 with 2 Axes>"
      ]
     },
     "metadata": {
      "needs_background": "light"
     },
     "output_type": "display_data"
    },
    {
     "name": "stdout",
     "output_type": "stream",
     "text": [
      "\n"
     ]
    },
    {
     "data": {
      "image/png": "[encoded data removed]",
      "text/plain": [
       "<Figure size 1296x230.4 with 2 Axes>"
      ]
     },
     "metadata": {
      "needs_background": "light"
     },
     "output_type": "display_data"
    },
    {
     "name": "stdout",
     "output_type": "stream",
     "text": [
      "\n"
     ]
    },
    {
     "data": {
      "image/png": "[encoded data removed]",
      "text/plain": [
       "<Figure size 1296x460.8 with 2 Axes>"
      ]
     },
     "metadata": {
      "needs_background": "light"
     },
     "output_type": "display_data"
    },
    {
     "name": "stdout",
     "output_type": "stream",
     "text": [
      "\n"
     ]
    },
    {
     "data": {
      "image/png": "[encoded data removed]",
      "text/plain": [
       "<Figure size 1296x230.4 with 2 Axes>"
      ]
     },
     "metadata": {
      "needs_background": "light"
     },
     "output_type": "display_data"
    },
    {
     "name": "stdout",
     "output_type": "stream",
     "text": [
      "\n"
     ]
    }
   ],
   "source": [
    "for col in cat_cols+[target_col]:\n",
    "    bar_pie(data, col)"
   ]
  },
  {
   "cell_type": "markdown",
   "metadata": {
    "id": "wyblWBoWEAmD"
   },
   "source": [
    "* можем видеть, что ЦП несбалансирован (1 - 26%, 0 - 74%)"
   ]
  },
  {
   "cell_type": "markdown",
   "metadata": {
    "id": "zg60u3QDEEZH"
   },
   "source": [
    "(Дополнительно) Если вы нашли какие-то ошибки в данных или выбросы, то можете их убрать. Тут можно поэксперементировать с обработкой данных как угодно, но не за баллы."
   ]
  },
  {
   "cell_type": "markdown",
   "metadata": {
    "id": "DviiJd8REEZK"
   },
   "source": [
    "## Применение линейных моделей (3 балла)\n",
    "\n",
    "1) Обработайте данные для того, чтобы к ним можно было применить LogisticRegression. Т.е. отнормируйте числовые признаки, а категориальные закодируйте с помощью one-hot-encoding'а. \n",
    "\n",
    "2) С помощью кроссвалидации или разделения на train/valid выборку протестируйте разные значения гиперпараметра C и выберите лучший (можно тестировать С=100, 10, 1, 0.1, 0.01, 0.001) по метрике ROC-AUC. \n",
    "\n",
    "Если вы разделяете на train/valid, то используйте LogisticRegressionCV. Он сам при вызове .fit() подберет параметр С. (не забудьте передать scroing='roc_auc', чтобы при кроссвалидации сравнивались значения этой метрики, и refit=True, чтобы при потом модель обучилась на всем датасете с лучшим параметром C). \n",
    "\n",
    "\n",
    "(более сложный вариант) Если вы будете использовать кроссвалидацию, то преобразования данных и LogisticRegression нужно соединить в один Pipeline с помощью make_pipeline, как это делалось во втором семинаре. Потом pipeline надо передать в GridSearchCV. Для one-hot-encoding'a можно испльзовать комбинацию LabelEncoder + OneHotEncoder (сначала превращаем строчки в числа, а потом числа првращаем в one-hot вектора.)"
   ]
  },
  {
   "cell_type": "code",
   "execution_count": 19,
   "metadata": {
    "id": "xHCLDmwqEEZL"
   },
   "outputs": [],
   "source": [
    "from sklearn.linear_model import LogisticRegression, LogisticRegressionCV\n",
    "from sklearn.model_selection import train_test_split, GridSearchCV\n",
    "from sklearn.preprocessing import StandardScaler, RobustScaler, LabelEncoder, OneHotEncoder\n",
    "from sklearn.pipeline import make_pipeline"
   ]
  },
  {
   "cell_type": "code",
   "execution_count": 20,
   "metadata": {
    "id": "P2Yv3uYtEEZO"
   },
   "outputs": [],
   "source": [
    "# YOUR CODE\n",
    "#создадим два датасета с признаками и ЦП\n",
    "X = data[feature_cols].copy()\n",
    "y = data[target_col].copy()\n",
    "\n",
    "#сделаем нормализацию\n",
    "scaler = StandardScaler().fit(X[num_cols])\n",
    "X[num_cols] = scaler.transform(X[num_cols])\n",
    "\n"
   ]
  },
  {
   "cell_type": "code",
   "execution_count": 21,
   "metadata": {
    "colab": {
     "base_uri": "https://localhost:8080/"
    },
    "id": "7wy8k3B-K51_",
    "outputId": "81e2c0e5-4bf3-4747-a500-3c9baaba7e0d"
   },
   "outputs": [
    {
     "data": {
      "text/plain": [
       "Index(['client_period', 'monthly_spending', 'total_spent', 'sex_Male',\n",
       "       'is_senior_citizen_1', 'has_partner_Yes', 'has_child_Yes',\n",
       "       'has_phone_service_Yes', 'has_multiple_phone_numbers_No phone service',\n",
       "       'has_multiple_phone_numbers_Yes', 'has_internet_service_Fiber optic',\n",
       "       'has_internet_service_No',\n",
       "       'has_online_security_service_No internet service',\n",
       "       'has_online_security_service_Yes',\n",
       "       'has_online_backup_No internet service', 'has_online_backup_Yes',\n",
       "       'has_device_protection_No internet service',\n",
       "       'has_device_protection_Yes',\n",
       "       'has_tech_support_access_No internet service',\n",
       "       'has_tech_support_access_Yes', 'has_online_t_v_No internet service',\n",
       "       'has_online_t_v_Yes', 'has_movie_subscription_No internet service',\n",
       "       'has_movie_subscription_Yes', 'has_contract_phone_One year',\n",
       "       'has_contract_phone_Two year', 'is_billing_paperless_Yes',\n",
       "       'payment_method_Credit card (automatic)',\n",
       "       'payment_method_Electronic check', 'payment_method_Mailed check'],\n",
       "      dtype='object')"
      ]
     },
     "execution_count": 21,
     "metadata": {},
     "output_type": "execute_result"
    }
   ],
   "source": [
    "#применим OneHotEncoding\n",
    "enc = OneHotEncoder(sparse=False, drop='first')\n",
    "ohe = pd.DataFrame(enc.fit_transform(X[cat_cols]), \n",
    "                   columns=enc.get_feature_names_out())\n",
    "ohe.index = X.index\n",
    "X_linreg = X.drop(cat_cols, axis=1)\n",
    "X_linreg = pd.concat([X_linreg, ohe], axis=1)\n",
    "X_linreg.columns"
   ]
  },
  {
   "cell_type": "code",
   "execution_count": 22,
   "metadata": {
    "colab": {
     "base_uri": "https://localhost:8080/"
    },
    "id": "B3k-eQp2cfmK",
    "outputId": "d4b31835-92b4-458a-a14d-80d12a1dddc9"
   },
   "outputs": [
    {
     "data": {
      "text/plain": [
       "array([100.])"
      ]
     },
     "execution_count": 22,
     "metadata": {},
     "output_type": "execute_result"
    }
   ],
   "source": [
    "#построим модель ЛогРегрессии\n",
    "model_logreg = LogisticRegressionCV(cv=5, random_state=2007, \n",
    "                                    scoring='roc_auc', refit=True,\n",
    "                                    penalty='l2',\n",
    "                                    Cs=[100, 10, 1, 0.1, 0.01, 0.001])\n",
    "model_logreg.fit(X_linreg, y)\n",
    "#выведем полученное значение C\n",
    "model_logreg.C_"
   ]
  },
  {
   "cell_type": "code",
   "execution_count": 23,
   "metadata": {
    "colab": {
     "base_uri": "https://localhost:8080/"
    },
    "id": "g7FzLv7Vfrjf",
    "outputId": "6d70a954-a6da-4bf5-d27e-7c580ec5eeef"
   },
   "outputs": [
    {
     "name": "stdout",
     "output_type": "stream",
     "text": [
      "[[0.8619528  0.86185535 0.8615491  0.85942851 0.85340547 0.84515976]\n",
      " [0.83676557 0.83670988 0.83661244 0.83497907 0.82954535 0.82399562]\n",
      " [0.83462177 0.83460785 0.83445473 0.83420415 0.83326682 0.8327796 ]\n",
      " [0.85530997 0.85529135 0.85543571 0.85493275 0.84953057 0.83880072]\n",
      " [0.83546362 0.8355519  0.83527777 0.83381422 0.82914477 0.82322549]]\n",
      "---------\n",
      "[[0.8619528  0.86185535 0.8615491  0.85942851 0.85340547 0.84515976]\n",
      " [0.83676557 0.83670988 0.83661244 0.83497907 0.82954535 0.82399562]\n",
      " [0.83462177 0.83460785 0.83445473 0.83420415 0.83326682 0.8327796 ]\n",
      " [0.85530997 0.85529135 0.85543571 0.85493275 0.84953057 0.83880072]\n",
      " [0.83546362 0.8355519  0.83527777 0.83381422 0.82914477 0.82322549]]\n"
     ]
    }
   ],
   "source": [
    "print(model_logreg.scores_[1])\n",
    "print('---------')\n",
    "print(model_logreg.scores_[1])"
   ]
  },
  {
   "cell_type": "markdown",
   "metadata": {
    "id": "uVahy6JKEEZQ"
   },
   "source": [
    "Выпишите какое лучшее качество и с какими параметрами вам удалось получить"
   ]
  },
  {
   "cell_type": "code",
   "execution_count": 24,
   "metadata": {
    "colab": {
     "base_uri": "https://localhost:8080/"
    },
    "id": "36729TOQEEZR",
    "outputId": "881a4d38-a4ac-4ac3-9653-1a7528371311"
   },
   "outputs": [
    {
     "name": "stdout",
     "output_type": "stream",
     "text": [
      " roc_auc модели Логиcтической регрессии 0.845 \n",
      " Значение C 100.0\n"
     ]
    }
   ],
   "source": [
    "#так как в модели лучшее значение параметра C = 100\n",
    "#это первое значение в Cs, посчитаем среднюю оценку\n",
    "#для этого нужно полученную матрицу оценок\n",
    "#транспонировать\n",
    "roc_auc_linreg = model_logreg.scores_[1].T[0].mean().round(3)\n",
    "print(' roc_auc модели Логиcтической регрессии', roc_auc_linreg,\n",
    "      '\\n',\n",
    "      'Значение C', model_logreg.C_[0])"
   ]
  },
  {
   "cell_type": "markdown",
   "metadata": {
    "id": "BlTeVy7fEEZR"
   },
   "source": [
    "## Применение градиентного бустинга (2 балла)\n",
    "\n",
    "Если вы хотите получить баллы за точный ответ, то стоит попробовать градиентный бустинг. Часто градиентный бустинг с дефолтными параметрами даст вам 80% результата за 0% усилий.\n",
    "\n",
    "Мы будем использовать catboost, поэтому нам не надо кодировать категориальные признаки. catboost сделает это сам (в .fit() надо передать cat_features=cat_cols). А численные признаки нормировать для моделей, основанных на деревьях не нужно.\n",
    "\n",
    "1) Разделите выборку на train/valid. Протестируйте catboost cо стандартными параметрами.\n",
    "\n",
    "2) Протестируйте разные занчения параметроа количества деревьев и learning_rate'а и выберите лучшую по метрике ROC-AUC комбинацию. \n",
    "\n",
    "(Дополнительно) Есть некоторые сложности с тем, чтобы использовать CatBoostClassifier вместе с GridSearchCV, поэтому мы не просим использовать кроссвалидацию. Но можете попробовать)"
   ]
  },
  {
   "cell_type": "code",
   "execution_count": 25,
   "metadata": {
    "colab": {
     "base_uri": "https://localhost:8080/"
    },
    "id": "Fioxxlp-EEZS",
    "outputId": "4aaa13a9-0713-4f36-ac33-26f347ea272a"
   },
   "outputs": [
    {
     "name": "stdout",
     "output_type": "stream",
     "text": [
      "Looking in indexes: https://pypi.org/simple, https://us-python.pkg.dev/colab-wheels/public/simple/\n",
      "Requirement already satisfied: catboost in /usr/local/lib/python3.7/dist-packages (1.1)\n",
      "Requirement already satisfied: graphviz in /usr/local/lib/python3.7/dist-packages (from catboost) (0.10.1)\n",
      "Requirement already satisfied: plotly in /usr/local/lib/python3.7/dist-packages (from catboost) (5.5.0)\n",
      "Requirement already satisfied: six in /usr/local/lib/python3.7/dist-packages (from catboost) (1.15.0)\n",
      "Requirement already satisfied: pandas>=0.24.0 in /usr/local/lib/python3.7/dist-packages (from catboost) (1.3.5)\n",
      "Requirement already satisfied: matplotlib in /usr/local/lib/python3.7/dist-packages (from catboost) (3.2.2)\n",
      "Requirement already satisfied: scipy in /usr/local/lib/python3.7/dist-packages (from catboost) (1.7.3)\n",
      "Requirement already satisfied: numpy>=1.16.0 in /usr/local/lib/python3.7/dist-packages (from catboost) (1.21.6)\n",
      "Requirement already satisfied: python-dateutil>=2.7.3 in /usr/local/lib/python3.7/dist-packages (from pandas>=0.24.0->catboost) (2.8.2)\n",
      "Requirement already satisfied: pytz>=2017.3 in /usr/local/lib/python3.7/dist-packages (from pandas>=0.24.0->catboost) (2022.4)\n",
      "Requirement already satisfied: kiwisolver>=1.0.1 in /usr/local/lib/python3.7/dist-packages (from matplotlib->catboost) (1.4.4)\n",
      "Requirement already satisfied: pyparsing!=2.0.4,!=2.1.2,!=2.1.6,>=2.0.1 in /usr/local/lib/python3.7/dist-packages (from matplotlib->catboost) (3.0.9)\n",
      "Requirement already satisfied: cycler>=0.10 in /usr/local/lib/python3.7/dist-packages (from matplotlib->catboost) (0.11.0)\n",
      "Requirement already satisfied: typing-extensions in /usr/local/lib/python3.7/dist-packages (from kiwisolver>=1.0.1->matplotlib->catboost) (4.1.1)\n",
      "Requirement already satisfied: tenacity>=6.2.0 in /usr/local/lib/python3.7/dist-packages (from plotly->catboost) (8.1.0)\n"
     ]
    }
   ],
   "source": [
    "# YOUR CODE\n",
    "!pip install catboost\n",
    "from catboost import (CatBoostClassifier, \n",
    "                      cv)\n",
    "from sklearn.metrics import roc_auc_score"
   ]
  },
  {
   "cell_type": "code",
   "execution_count": 26,
   "metadata": {
    "colab": {
     "base_uri": "https://localhost:8080/"
    },
    "id": "MwVAKpl3hxz1",
    "outputId": "be7ddb7a-1530-4d3f-fb78-ff887d4072cb"
   },
   "outputs": [
    {
     "data": {
      "text/plain": [
       "((4218, 19), (1055,))"
      ]
     },
     "execution_count": 26,
     "metadata": {},
     "output_type": "execute_result"
    }
   ],
   "source": [
    "#разделим выборку\n",
    "#так как есть несбалансированность ЦП\n",
    "#сделаем стратификацию при разделении\n",
    "X_train, X_valid, y_train, y_valid = train_test_split(\n",
    "    X, y, test_size=0.2, random_state=2007, stratify=y\n",
    ")\n",
    "X_train.shape, y_valid.shape"
   ]
  },
  {
   "cell_type": "code",
   "execution_count": 27,
   "metadata": {
    "colab": {
     "base_uri": "https://localhost:8080/"
    },
    "id": "XWP6Nk7nyzsK",
    "outputId": "d9a7dcfd-d95d-4ba8-c596-fb9e872c69f7"
   },
   "outputs": [
    {
     "data": {
      "text/plain": [
       "(0    3111\n",
       " 1    1107\n",
       " Name: churn, dtype: int64, 0    778\n",
       " 1    277\n",
       " Name: churn, dtype: int64)"
      ]
     },
     "execution_count": 27,
     "metadata": {},
     "output_type": "execute_result"
    }
   ],
   "source": [
    "y_train.value_counts(), y_valid.value_counts()"
   ]
  },
  {
   "cell_type": "code",
   "execution_count": 28,
   "metadata": {
    "colab": {
     "base_uri": "https://localhost:8080/"
    },
    "id": "BrPOcFy4icLJ",
    "outputId": "27750ef5-6f79-4175-f9c1-01e3565d0ba9"
   },
   "outputs": [
    {
     "data": {
      "text/plain": [
       "<catboost.core.CatBoostClassifier at 0x7fd8fc922ad0>"
      ]
     },
     "execution_count": 28,
     "metadata": {},
     "output_type": "execute_result"
    }
   ],
   "source": [
    "#посмотрим дефолтную модель\n",
    "cat_model = CatBoostClassifier(cat_features=cat_cols, verbose=0, random_state=2007,\n",
    "                               eval_metric='AUC',\n",
    "                               auto_class_weights='Balanced')\n",
    "cat_model.fit(X_train, y_train)\n"
   ]
  },
  {
   "cell_type": "code",
   "execution_count": 29,
   "metadata": {
    "colab": {
     "base_uri": "https://localhost:8080/"
    },
    "id": "NCh_N0tYjIHw",
    "outputId": "c854311d-8bc0-4df6-d4a2-d29fcfeaad30"
   },
   "outputs": [
    {
     "name": "stdout",
     "output_type": "stream",
     "text": [
      "roc_auc базовой модели Catboost 0.825\n"
     ]
    }
   ],
   "source": [
    "cat_preds = cat_model.predict_proba(X_valid)[:, 1]\n",
    "roc_auc_def_catboost = roc_auc_score(y_valid, cat_preds).round(3)\n",
    "print('roc_auc базовой модели Catboost', roc_auc_def_catboost)"
   ]
  },
  {
   "cell_type": "code",
   "execution_count": 30,
   "metadata": {
    "colab": {
     "base_uri": "https://localhost:8080/"
    },
    "id": "3mTM_FgMxsJ_",
    "outputId": "3d2d539d-50b0-446a-f11c-81a2898e6751"
   },
   "outputs": [
    {
     "data": {
      "text/plain": [
       "<catboost.core.CatBoostClassifier at 0x7fd8fc922ad0>"
      ]
     },
     "execution_count": 30,
     "metadata": {},
     "output_type": "execute_result"
    }
   ],
   "source": [
    "#обучим на всей выборке\n",
    "cat_model.fit(X,y)"
   ]
  },
  {
   "cell_type": "code",
   "execution_count": 31,
   "metadata": {
    "colab": {
     "base_uri": "https://localhost:8080/"
    },
    "id": "rrCwAcHij4le",
    "outputId": "9d702cac-32d9-41f8-e05a-87ffdd531660"
   },
   "outputs": [
    {
     "name": "stdout",
     "output_type": "stream",
     "text": [
      "\n",
      "bestTest = 0.8498187859\n",
      "bestIteration = 272\n",
      "\n",
      "Metric AUC is not calculated on train by default. To calculate this metric on train, add hints=skip_train~false to metric parameters.\n",
      "\n",
      "bestTest = 0.8517064331\n",
      "bestIteration = 299\n",
      "\n",
      "Metric AUC is not calculated on train by default. To calculate this metric on train, add hints=skip_train~false to metric parameters.\n",
      "\n",
      "bestTest = 0.8515657176\n",
      "bestIteration = 219\n",
      "\n",
      "Metric AUC is not calculated on train by default. To calculate this metric on train, add hints=skip_train~false to metric parameters.\n",
      "\n",
      "bestTest = 0.851023448\n",
      "bestIteration = 279\n",
      "\n",
      "Metric AUC is not calculated on train by default. To calculate this metric on train, add hints=skip_train~false to metric parameters.\n",
      "\n",
      "bestTest = 0.8515279646\n",
      "bestIteration = 299\n",
      "\n",
      "Metric AUC is not calculated on train by default. To calculate this metric on train, add hints=skip_train~false to metric parameters.\n",
      "\n",
      "bestTest = 0.8514078416\n",
      "bestIteration = 279\n",
      "\n",
      "Metric AUC is not calculated on train by default. To calculate this metric on train, add hints=skip_train~false to metric parameters.\n",
      "\n",
      "bestTest = 0.8501688586\n",
      "bestIteration = 296\n",
      "\n",
      "Metric AUC is not calculated on train by default. To calculate this metric on train, add hints=skip_train~false to metric parameters.\n",
      "\n",
      "bestTest = 0.8517373219\n",
      "bestIteration = 285\n",
      "\n",
      "Metric AUC is not calculated on train by default. To calculate this metric on train, add hints=skip_train~false to metric parameters.\n",
      "\n",
      "bestTest = 0.8518299882\n",
      "bestIteration = 219\n",
      "\n",
      "Metric AUC is not calculated on train by default. To calculate this metric on train, add hints=skip_train~false to metric parameters.\n",
      "\n",
      "bestTest = 0.8511058181\n",
      "bestIteration = 372\n",
      "\n",
      "Metric AUC is not calculated on train by default. To calculate this metric on train, add hints=skip_train~false to metric parameters.\n",
      "\n",
      "bestTest = 0.8517064331\n",
      "bestIteration = 299\n",
      "\n",
      "Metric AUC is not calculated on train by default. To calculate this metric on train, add hints=skip_train~false to metric parameters.\n",
      "\n",
      "bestTest = 0.8515657176\n",
      "bestIteration = 219\n",
      "\n",
      "Metric AUC is not calculated on train by default. To calculate this metric on train, add hints=skip_train~false to metric parameters.\n",
      "\n",
      "bestTest = 0.8514799154\n",
      "bestIteration = 399\n",
      "\n",
      "Metric AUC is not calculated on train by default. To calculate this metric on train, add hints=skip_train~false to metric parameters.\n",
      "\n",
      "bestTest = 0.8518299882\n",
      "bestIteration = 359\n",
      "\n",
      "Metric AUC is not calculated on train by default. To calculate this metric on train, add hints=skip_train~false to metric parameters.\n",
      "\n",
      "bestTest = 0.851462755\n",
      "bestIteration = 311\n",
      "\n",
      "Metric AUC is not calculated on train by default. To calculate this metric on train, add hints=skip_train~false to metric parameters.\n",
      "\n",
      "bestTest = 0.8504880426\n",
      "bestIteration = 343\n",
      "\n",
      "Metric AUC is not calculated on train by default. To calculate this metric on train, add hints=skip_train~false to metric parameters.\n",
      "\n",
      "bestTest = 0.8518196919\n",
      "bestIteration = 306\n",
      "\n",
      "Metric AUC is not calculated on train by default. To calculate this metric on train, add hints=skip_train~false to metric parameters.\n",
      "\n",
      "bestTest = 0.8518299882\n",
      "bestIteration = 219\n",
      "\n",
      "Metric AUC is not calculated on train by default. To calculate this metric on train, add hints=skip_train~false to metric parameters.\n",
      "\n",
      "bestTest = 0.8511058181\n",
      "bestIteration = 372\n",
      "\n",
      "Metric AUC is not calculated on train by default. To calculate this metric on train, add hints=skip_train~false to metric parameters.\n",
      "\n",
      "bestTest = 0.8517064331\n",
      "bestIteration = 299\n",
      "\n",
      "Metric AUC is not calculated on train by default. To calculate this metric on train, add hints=skip_train~false to metric parameters.\n",
      "\n",
      "bestTest = 0.8515657176\n",
      "bestIteration = 219\n",
      "\n",
      "Metric AUC is not calculated on train by default. To calculate this metric on train, add hints=skip_train~false to metric parameters.\n",
      "\n",
      "bestTest = 0.8515348288\n",
      "bestIteration = 410\n",
      "\n",
      "Metric AUC is not calculated on train by default. To calculate this metric on train, add hints=skip_train~false to metric parameters.\n",
      "\n",
      "bestTest = 0.8518299882\n",
      "bestIteration = 359\n",
      "\n",
      "Metric AUC is not calculated on train by default. To calculate this metric on train, add hints=skip_train~false to metric parameters.\n",
      "\n",
      "bestTest = 0.851462755\n",
      "bestIteration = 311\n",
      "\n",
      "Metric AUC is not calculated on train by default. To calculate this metric on train, add hints=skip_train~false to metric parameters.\n",
      "\n",
      "bestTest = 0.8504880426\n",
      "bestIteration = 343\n",
      "\n",
      "Metric AUC is not calculated on train by default. To calculate this metric on train, add hints=skip_train~false to metric parameters.\n",
      "\n",
      "bestTest = 0.8518196919\n",
      "bestIteration = 306\n",
      "\n",
      "Metric AUC is not calculated on train by default. To calculate this metric on train, add hints=skip_train~false to metric parameters.\n",
      "\n",
      "bestTest = 0.8518299882\n",
      "bestIteration = 219\n",
      "\n",
      "Metric AUC is not calculated on train by default. To calculate this metric on train, add hints=skip_train~false to metric parameters.\n",
      "\n",
      "bestTest = 0.8498187859\n",
      "bestIteration = 272\n",
      "\n",
      "Metric AUC is not calculated on train by default. To calculate this metric on train, add hints=skip_train~false to metric parameters.\n",
      "\n",
      "bestTest = 0.8517064331\n",
      "bestIteration = 299\n",
      "\n",
      "Metric AUC is not calculated on train by default. To calculate this metric on train, add hints=skip_train~false to metric parameters.\n",
      "\n",
      "bestTest = 0.8515657176\n",
      "bestIteration = 219\n",
      "\n",
      "Metric AUC is not calculated on train by default. To calculate this metric on train, add hints=skip_train~false to metric parameters.\n",
      "\n",
      "bestTest = 0.851023448\n",
      "bestIteration = 279\n",
      "\n",
      "Metric AUC is not calculated on train by default. To calculate this metric on train, add hints=skip_train~false to metric parameters.\n",
      "\n",
      "bestTest = 0.8515279646\n",
      "bestIteration = 299\n",
      "\n",
      "Metric AUC is not calculated on train by default. To calculate this metric on train, add hints=skip_train~false to metric parameters.\n",
      "\n",
      "bestTest = 0.8514078416\n",
      "bestIteration = 279\n",
      "\n",
      "Metric AUC is not calculated on train by default. To calculate this metric on train, add hints=skip_train~false to metric parameters.\n",
      "\n",
      "bestTest = 0.8501688586\n",
      "bestIteration = 296\n",
      "\n",
      "Metric AUC is not calculated on train by default. To calculate this metric on train, add hints=skip_train~false to metric parameters.\n",
      "\n",
      "bestTest = 0.8517373219\n",
      "bestIteration = 285\n",
      "\n",
      "Metric AUC is not calculated on train by default. To calculate this metric on train, add hints=skip_train~false to metric parameters.\n",
      "\n",
      "bestTest = 0.8518299882\n",
      "bestIteration = 219\n",
      "\n",
      "Metric AUC is not calculated on train by default. To calculate this metric on train, add hints=skip_train~false to metric parameters.\n",
      "\n",
      "bestTest = 0.8511058181\n",
      "bestIteration = 372\n",
      "\n",
      "Metric AUC is not calculated on train by default. To calculate this metric on train, add hints=skip_train~false to metric parameters.\n",
      "\n",
      "bestTest = 0.8517064331\n",
      "bestIteration = 299\n",
      "\n",
      "Metric AUC is not calculated on train by default. To calculate this metric on train, add hints=skip_train~false to metric parameters.\n",
      "\n",
      "bestTest = 0.8515657176\n",
      "bestIteration = 219\n",
      "\n",
      "Metric AUC is not calculated on train by default. To calculate this metric on train, add hints=skip_train~false to metric parameters.\n",
      "\n",
      "bestTest = 0.8514799154\n",
      "bestIteration = 399\n",
      "\n",
      "Metric AUC is not calculated on train by default. To calculate this metric on train, add hints=skip_train~false to metric parameters.\n",
      "\n",
      "bestTest = 0.8518299882\n",
      "bestIteration = 359\n",
      "\n",
      "Metric AUC is not calculated on train by default. To calculate this metric on train, add hints=skip_train~false to metric parameters.\n",
      "\n",
      "bestTest = 0.851462755\n",
      "bestIteration = 311\n",
      "\n",
      "Metric AUC is not calculated on train by default. To calculate this metric on train, add hints=skip_train~false to metric parameters.\n",
      "\n",
      "bestTest = 0.8504880426\n",
      "bestIteration = 343\n",
      "\n",
      "Metric AUC is not calculated on train by default. To calculate this metric on train, add hints=skip_train~false to metric parameters.\n",
      "\n",
      "bestTest = 0.8518196919\n",
      "bestIteration = 306\n",
      "\n",
      "Metric AUC is not calculated on train by default. To calculate this metric on train, add hints=skip_train~false to metric parameters.\n",
      "\n",
      "bestTest = 0.8518299882\n",
      "bestIteration = 219\n",
      "\n",
      "Metric AUC is not calculated on train by default. To calculate this metric on train, add hints=skip_train~false to metric parameters.\n",
      "\n",
      "bestTest = 0.8511058181\n",
      "bestIteration = 372\n",
      "\n",
      "Metric AUC is not calculated on train by default. To calculate this metric on train, add hints=skip_train~false to metric parameters.\n",
      "\n",
      "bestTest = 0.8517064331\n",
      "bestIteration = 299\n",
      "\n",
      "Metric AUC is not calculated on train by default. To calculate this metric on train, add hints=skip_train~false to metric parameters.\n",
      "\n",
      "bestTest = 0.8515657176\n",
      "bestIteration = 219\n",
      "\n",
      "Metric AUC is not calculated on train by default. To calculate this metric on train, add hints=skip_train~false to metric parameters.\n",
      "\n",
      "bestTest = 0.8515348288\n",
      "bestIteration = 410\n",
      "\n",
      "Metric AUC is not calculated on train by default. To calculate this metric on train, add hints=skip_train~false to metric parameters.\n",
      "\n",
      "bestTest = 0.8518299882\n",
      "bestIteration = 359\n",
      "\n",
      "Metric AUC is not calculated on train by default. To calculate this metric on train, add hints=skip_train~false to metric parameters.\n",
      "\n",
      "bestTest = 0.851462755\n",
      "bestIteration = 311\n",
      "\n",
      "Metric AUC is not calculated on train by default. To calculate this metric on train, add hints=skip_train~false to metric parameters.\n",
      "\n",
      "bestTest = 0.8504880426\n",
      "bestIteration = 343\n",
      "\n",
      "Metric AUC is not calculated on train by default. To calculate this metric on train, add hints=skip_train~false to metric parameters.\n",
      "\n",
      "bestTest = 0.8518196919\n",
      "bestIteration = 306\n",
      "\n",
      "Metric AUC is not calculated on train by default. To calculate this metric on train, add hints=skip_train~false to metric parameters.\n",
      "\n",
      "bestTest = 0.8518299882\n",
      "bestIteration = 219\n",
      "\n",
      "Metric AUC is not calculated on train by default. To calculate this metric on train, add hints=skip_train~false to metric parameters.\n",
      "Training on fold [0/4]\n",
      "\n",
      "bestTest = 0.8510366301\n",
      "bestIteration = 285\n",
      "\n",
      "Training on fold [1/4]\n",
      "\n",
      "bestTest = 0.851783709\n",
      "bestIteration = 263\n",
      "\n",
      "Training on fold [2/4]\n",
      "\n",
      "bestTest = 0.8554935825\n",
      "bestIteration = 276\n",
      "\n",
      "Training on fold [3/4]\n",
      "\n",
      "bestTest = 0.8496493388\n",
      "bestIteration = 231\n",
      "\n",
      "CPU times: user 4min 3s, sys: 27.8 s, total: 4min 31s\n",
      "Wall time: 2min 41s\n"
     ]
    }
   ],
   "source": [
    "%%time\n",
    "#попробуем перебрать параметры встроенной кросс-валидацией \n",
    "#и grid_search\n",
    "model_cat_cv = CatBoostClassifier(verbose=0, \n",
    "                              random_seed=2007,\n",
    "                              cat_features=cat_cols,\n",
    "                              eval_metric='AUC',\n",
    "                              loss_function='Logloss')\n",
    "\n",
    "#подберем параметры методом randomized_search\n",
    "grid_cat = {\n",
    "    'learning_rate': [0.025, 0.03, 0.035],\n",
    "    'depth': [3, 4, 5],\n",
    "    'l2_leaf_reg': [2.5, 3, 3.5],\n",
    "    'iterations': [300, 400, 500],\n",
    "    'auto_class_weights': ['Balanced', 'SqrtBalanced'],\n",
    "    'max_leaves': [4, 6, 8]}\n",
    "\n",
    "rand_search_catboost_results = (\n",
    "    model_cat_cv.grid_search(\n",
    "        param_grid=grid_cat, #param_distributions n_iter=12\n",
    "        X=X_train,\n",
    "        y=y_train,\n",
    "        cv=4,\n",
    "        partition_random_seed=2007,\n",
    "        verbose=0,\n",
    "        refit=True\n",
    "        \n",
    "        \n",
    "    )\n",
    "    )"
   ]
  },
  {
   "cell_type": "code",
   "execution_count": 32,
   "metadata": {
    "colab": {
     "base_uri": "https://localhost:8080/"
    },
    "id": "Q5bEu9zQkr9e",
    "outputId": "5384050b-a9a2-41ef-e631-a48b2f639c21"
   },
   "outputs": [
    {
     "name": "stdout",
     "output_type": "stream",
     "text": [
      "roc_auc CV модели Catboost 0.826\n"
     ]
    }
   ],
   "source": [
    "cat_preds_cv = model_cat_cv.predict_proba(X_valid)[:,1]\n",
    "roc_auc_catboost_cv = roc_auc_score(y_valid, cat_preds_cv).round(3)\n",
    "print('roc_auc CV модели Catboost', roc_auc_catboost_cv)"
   ]
  },
  {
   "cell_type": "markdown",
   "metadata": {
    "id": "R3DsdkZT-9o_"
   },
   "source": [
    "* видим, что метрика стала лишь немного лучше метрики на базовой модели"
   ]
  },
  {
   "cell_type": "code",
   "execution_count": 33,
   "metadata": {
    "colab": {
     "base_uri": "https://localhost:8080/"
    },
    "id": "oDCJdR3rxOvE",
    "outputId": "fe521b5a-4078-4d06-ddae-6c9aae9b9253"
   },
   "outputs": [
    {
     "data": {
      "text/plain": [
       "<catboost.core.CatBoostClassifier at 0x7fd8fc2ff590>"
      ]
     },
     "execution_count": 33,
     "metadata": {},
     "output_type": "execute_result"
    }
   ],
   "source": [
    "#обучим на всей выборке полученную модель\n",
    "model_cat_cv.fit(X, y)"
   ]
  },
  {
   "cell_type": "code",
   "execution_count": 34,
   "metadata": {
    "colab": {
     "base_uri": "https://localhost:8080/"
    },
    "id": "YtqjLCtOjb5f",
    "outputId": "15c812d3-5975-4e78-8ce3-54f5ba02ea42"
   },
   "outputs": [
    {
     "data": {
      "text/plain": [
       "{'nan_mode': 'Min',\n",
       " 'eval_metric': 'AUC',\n",
       " 'combinations_ctr': ['Borders:CtrBorderCount=15:CtrBorderType=Uniform:TargetBorderCount=1:TargetBorderType=MinEntropy:Prior=0/1:Prior=0.5/1:Prior=1/1',\n",
       "  'Counter:CtrBorderCount=15:CtrBorderType=Uniform:Prior=0/1'],\n",
       " 'iterations': 300,\n",
       " 'sampling_frequency': 'PerTree',\n",
       " 'fold_permutation_block': 0,\n",
       " 'leaf_estimation_method': 'Newton',\n",
       " 'counter_calc_method': 'SkipTest',\n",
       " 'grow_policy': 'SymmetricTree',\n",
       " 'penalties_coefficient': 1,\n",
       " 'boosting_type': 'Plain',\n",
       " 'model_shrink_mode': 'Constant',\n",
       " 'feature_border_type': 'GreedyLogSum',\n",
       " 'ctr_leaf_count_limit': 18446744073709551615,\n",
       " 'bayesian_matrix_reg': 0.10000000149011612,\n",
       " 'one_hot_max_size': 2,\n",
       " 'eval_fraction': 0,\n",
       " 'force_unit_auto_pair_weights': False,\n",
       " 'l2_leaf_reg': 3.5,\n",
       " 'random_strength': 1,\n",
       " 'rsm': 1,\n",
       " 'boost_from_average': False,\n",
       " 'max_ctr_complexity': 4,\n",
       " 'model_size_reg': 0.5,\n",
       " 'simple_ctr': ['Borders:CtrBorderCount=15:CtrBorderType=Uniform:TargetBorderCount=1:TargetBorderType=MinEntropy:Prior=0/1:Prior=0.5/1:Prior=1/1',\n",
       "  'Counter:CtrBorderCount=15:CtrBorderType=Uniform:Prior=0/1'],\n",
       " 'pool_metainfo_options': {'tags': {}},\n",
       " 'subsample': 0.800000011920929,\n",
       " 'use_best_model': False,\n",
       " 'class_names': [0, 1],\n",
       " 'random_seed': 2007,\n",
       " 'depth': 3,\n",
       " 'ctr_target_border_count': 1,\n",
       " 'posterior_sampling': False,\n",
       " 'has_time': False,\n",
       " 'store_all_simple_ctr': False,\n",
       " 'border_count': 254,\n",
       " 'class_weights': [1, 2.8099710941314697],\n",
       " 'classes_count': 0,\n",
       " 'auto_class_weights': 'Balanced',\n",
       " 'sparse_features_conflict_fraction': 0,\n",
       " 'leaf_estimation_backtracking': 'AnyImprovement',\n",
       " 'best_model_min_trees': 1,\n",
       " 'model_shrink_rate': 0,\n",
       " 'min_data_in_leaf': 1,\n",
       " 'loss_function': 'Logloss',\n",
       " 'learning_rate': 0.03500000014901161,\n",
       " 'score_function': 'Cosine',\n",
       " 'task_type': 'CPU',\n",
       " 'leaf_estimation_iterations': 10,\n",
       " 'bootstrap_type': 'MVS',\n",
       " 'max_leaves': 8,\n",
       " 'permutation_count': 4}"
      ]
     },
     "execution_count": 34,
     "metadata": {},
     "output_type": "execute_result"
    }
   ],
   "source": [
    "#полученные параметры модели:\n",
    "model_cat_cv.get_all_params()"
   ]
  },
  {
   "cell_type": "markdown",
   "metadata": {
    "id": "dDMXbvNZEEZV"
   },
   "source": [
    "# Предсказания"
   ]
  },
  {
   "cell_type": "code",
   "execution_count": 35,
   "metadata": {
    "id": "FfSufx0CEEZZ"
   },
   "outputs": [],
   "source": [
    "#загрузка данных\n",
    "url_test='https://drive.google.com/file/d/17EeA3KwMtqbeVbcT6UDYwLMBrT4j9G8H/view?usp=sharing'\n",
    "url_test='https://drive.google.com/uc?id=' + url_test.split('/')[-2]\n",
    "X_test = pd.read_csv(url_test)\n",
    "\n",
    "#перевод столбцов в змеиный регистр\n",
    "X_test.columns = ['_'.join(re.split(r'(?=[A-Z])', i))\n",
    "              .strip('_').lower() for i in X_test.columns]\n",
    "\n",
    "#перевод столбца в численные значения\n",
    "X_test['total_spent'] = pd.to_numeric(X_test['total_spent'], \n",
    "                                      errors='coerce')\n",
    "#X_test = pd.read_csv('./test.csv')\n",
    "\n",
    "\n",
    "\n",
    "url_sub='https://drive.google.com/file/d/1mp1w5d7Xe_1tQRucmftG6RSJ__yMDoI-/view?usp=sharing'\n",
    "url_sub='https://drive.google.com/uc?id=' + url_sub.split('/')[-2]\n",
    "submission = pd.read_csv(url_sub)\n",
    "#submission = pd.read_csv('./submission.csv')\n"
   ]
  },
  {
   "cell_type": "code",
   "execution_count": 36,
   "metadata": {
    "id": "z9jSyMn99v9H"
   },
   "outputs": [],
   "source": [
    "#посмотрим CatBoostCV\n",
    "submission['Churn'] = model_cat_cv.predict_proba(X_test)[:,1]\n",
    "submission = submission.set_index('Id')\n",
    " #/ best_model.predict(X_test)\n",
    "submission.to_csv('./my_submission.csv')"
   ]
  },
  {
   "cell_type": "code",
   "execution_count": 37,
   "metadata": {
    "id": "A7CXfc_v0JeB"
   },
   "outputs": [],
   "source": [
    "#и лог регрессию\n",
    "#для нее нужно подготовить тестовую выборку\n",
    "X_test_linreg = X_test.copy()\n",
    "\n",
    "#нормализация\n",
    "X_test_linreg[num_cols] = scaler.transform(X_test_linreg[num_cols])\n",
    "\n",
    "#OneHotEncoding\n",
    "ohe_test = pd.DataFrame(enc.fit_transform(X_test_linreg[cat_cols]), \n",
    "                        columns=enc.get_feature_names_out())\n",
    "ohe_test.index = X_test_linreg.index\n",
    "X_test_linreg = X_test_linreg.drop(cat_cols, axis=1)\n",
    "X_test_linreg = pd.concat([X_test_linreg, ohe_test], axis=1)\n",
    "X_test_linreg = X_test_linreg.fillna(0)\n",
    "\n",
    "#Получение probs\n",
    "submission_linreg = submission.copy()\n",
    "submission_linreg['Churn'] = model_logreg.predict_proba(X_test_linreg)[:,1]\n",
    "#submission_linreg = submission_linreg.set_index('Id')\n",
    " #/ best_model.predict(X_test)\n",
    "submission_linreg.to_csv('./my_submission_linreg.csv')"
   ]
  },
  {
   "cell_type": "markdown",
   "metadata": {
    "id": "H2SiBnibFi0M"
   },
   "source": [
    "*По результатам теста на Kaggle (Alexey_Volkov, User Name: alexvolk, место в рейтинге на дату просмотра 2061):*\n",
    "* модель CatBoost имеет метрику 0.79802 (метрика по результатам обучения на валидационной выборке - 0.826)\n",
    "* модель ЛогРегрессии имеет метрику 0.84576 (метрика по результатам обучения на CV - 0.845)\n",
    "\n",
    "*Таким образом, на данный момент лучшей моделью является модель логистической регрессии, для улучшения CatBoost нужно продолжить подбор ГП и уделить больше внимания преподготовке данных, может быть в дальнешем стоит попытаться сделать композицию (стэкинг) из моделей*"
   ]
  },
  {
   "cell_type": "code",
   "execution_count": 38,
   "metadata": {
    "id": "G_P4wFNaEEZW"
   },
   "outputs": [],
   "source": [
    "best_model = model_logreg"
   ]
  },
  {
   "cell_type": "markdown",
   "metadata": {
    "id": "mkxjbGkVEEZc"
   },
   "source": [
    "# Kaggle (5 баллов)\n",
    "\n",
    "Как выставить баллы:\n",
    "\n",
    "1) 1 >= roc auc > 0.84 это 5 баллов\n",
    "\n",
    "2) 0.84 >= roc auc > 0.7 это 3 балла\n",
    "\n",
    "3) 0.7 >= roc auc > 0.6 это 1 балл\n",
    "\n",
    "4) 0.6 >= roc auc это 0 баллов\n",
    "\n",
    "\n",
    "Для выполнения задания необходимо выполнить следующие шаги.\n",
    "* Зарегистрироваться на платформе [kaggle.com](kaggle.com). Процесс выставления оценок будет проходить при подведении итогового рейтинга. Пожалуйста, укажите во вкладке Team -> Team name свои имя и фамилию в формате Имя_Фамилия (важно, чтобы имя и фамилия совпадали с данными на Stepik).\n",
    "* Обучить модель, получить файл с ответами в формате .csv и сдать его в конкурс. Пробуйте и экспериментируйте. Обратите внимание, что вы можете выполнять до 20 попыток сдачи на kaggle в день.\n",
    "* После окончания соревнования отправить в итоговый ноутбук с решением на степик. \n",
    "* После дедлайна проверьте посылки других участников по критериям. Для этого надо зайти на степик, скачать их ноутбук и проверить скор в соревновании."
   ]
  }
 ],
 "metadata": {
  "colab": {
   "collapsed_sections": [],
   "provenance": []
  },
  "kernelspec": {
   "display_name": "Python 3",
   "language": "python",
   "name": "python3"
  },
  "language_info": {
   "codemirror_mode": {
    "name": "ipython",
    "version": 3
   },
   "file_extension": ".py",
   "mimetype": "text/x-python",
   "name": "python",
   "nbconvert_exporter": "python",
   "pygments_lexer": "ipython3",
   "version": "3.8.8"
  }
 },
 "nbformat": 4,
 "nbformat_minor": 1
}
